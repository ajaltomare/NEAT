{
 "cells": [
  {
   "cell_type": "code",
   "execution_count": 2,
   "id": "8e0671df",
   "metadata": {
    "tags": [
     "remove-cell"
    ]
   },
   "outputs": [
    {
     "ename": "SyntaxError",
     "evalue": "invalid syntax (4053673154.py, line 5)",
     "output_type": "error",
     "traceback": [
      "\u001b[0;36m  File \u001b[0;32m\"/tmp/ipykernel_62/4053673154.py\"\u001b[0;36m, line \u001b[0;32m5\u001b[0m\n\u001b[0;31m    get_ipython().run_line_magic('click', 'inline')\u001b[0m\n\u001b[0m              ^\u001b[0m\n\u001b[0;31mSyntaxError\u001b[0m\u001b[0;31m:\u001b[0m invalid syntax\n"
     ]
    }
   ],
   "source": [
    "#FROM https://click.palletsprojects.com/en/8.1.x/\n",
    "import click\n",
    "\n",
    "@click.command()\n",
    "%click inline\n",
    "\n",
    "@click.option('--count', default=1, help='Number of greetings.')\n",
    "@click.option('--name', prompt='Your name',\n",
    "   help='The person to greet.')\n",
    "def hello(count, name):\n",
    "   \"\"\"Simple program that greets NAME for a total of COUNT times.\"\"\"\n",
    "   for x in range(count):\n",
    "      click.echo(f\"Hello {name}!\")\n",
    "\n",
    "if __name__ == '__main__':\n",
    "   hello()"
   ]
  },
  {
   "cell_type": "code",
   "execution_count": 3,
   "id": "bd465381",
   "metadata": {},
   "outputs": [
    {
     "name": "stderr",
     "output_type": "stream",
     "text": [
      "UsageError: Line magic function `%%python` not found.\n"
     ]
    }
   ],
   "source": [
    "#getopts method\n",
    "\n",
    "%%python\n",
    "\n",
    "import sys\n",
    "import click\n",
    "@click.command()\n",
    "\n",
    "def welcome_statement():\n",
    "    click.echo(\"Welcome to the NEAT project, the NExt-generation sequencing Analysis Toolkit, version 3.2.\")\n",
    "\n",
    "def main(argv):\n",
    "   read_length = ''\n",
    "   reference_fasta_file = ''\n",
    "   output_file = ''\n",
    "\n",
    "   #1>>redo options with click.option\n",
    "   try:\n",
    "      opts, args = getopt.getopt(argv,\"R:r:o:\",[\"read_length=\",\"reference_fasta=\", \"output=\"])\n",
    "   except getopt.GetoptError:\n",
    "      print('test.py -R <read_length> -r <reference_fasta> -o <output_file>')\n",
    "      sys.exit(2)\n",
    "   for opt, arg in opts:\n",
    "      if opt in (\"-R\", \"--read_length\"):\n",
    "         read_length = arg\n",
    "      elif opt in (\"-r\", \"--reference_fasta\"):\n",
    "         reference_fasta_file = arg\n",
    "      elif opt in (\"-o\", \"--output\"):\n",
    "         output_file = arg\n",
    "\n",
    "      print('read_length is:  \"', read_length)\n",
    "      print('reference_fasta is \"', reference_fasta_file)\n",
    "      print('Output is \"', output_file)\n",
    "\n",
    "   return read_length\n",
    "   return reference_fasta_file\n",
    "   return output_file\n",
    "\n",
    "if __name__ == \"__main__\":\n",
    "     main(sys.argv[1:])"
   ]
  },
  {
   "cell_type": "code",
   "execution_count": null,
   "id": "2de0e2fa-9350-4a59-9a4c-bd6fb0391f5b",
   "metadata": {},
   "outputs": [],
   "source": [
    "#1>>redo options with click.option\n",
    "import click\n",
    "@click.command()\n",
    "@click.option('--r', prompt = /home/suvinit/NEAT-data/H1N1/H1N1.fasta, help = 'Path to reference fasta')\n",
    "@click.option('--R', default = 100, help = 'The desired read length')\n",
    "@click.option('--o', default = /home/suvinit/NEAT-data/H1N1/H1N1.test-run, help = 'output_prefix')\n",
    "\n",
    "#def hello(count, name):\n",
    "#   \"\"\"Simple program that greets NAME for a total of COUNT times.\"\"\"\n",
    "#   for x in range(count):\n",
    "#      click.echo(f\"Hello {name}!\")\n",
    "\n",
    "#if __name__ == '__main__':\n",
    "#   hello()"
   ]
  }
 ],
 "metadata": {
  "kernelspec": {
   "display_name": "Python 3 (ipykernel)",
   "language": "python",
   "name": "python3"
  },
  "language_info": {
   "codemirror_mode": {
    "name": "ipython",
    "version": 3
   },
   "file_extension": ".py",
   "mimetype": "text/x-python",
   "name": "python",
   "nbconvert_exporter": "python",
   "pygments_lexer": "ipython3",
   "version": "3.7.12"
  }
 },
 "nbformat": 4,
 "nbformat_minor": 5
}
