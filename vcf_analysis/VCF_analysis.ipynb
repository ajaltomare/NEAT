{
 "cells": [
  {
   "cell_type": "code",
   "execution_count": 1,
   "id": "2e3af992",
   "metadata": {},
   "outputs": [],
   "source": [
    "import pandas as pd\n",
    "import gzip\n",
    "import numpy as np"
   ]
  },
  {
   "cell_type": "markdown",
   "id": "6c6fae01",
   "metadata": {},
   "source": [
    "Below I have extracted columns, pos and entire data for OLD VCF named: testing_grOLD_ref1_golden.vcf.gz"
   ]
  },
  {
   "cell_type": "code",
   "execution_count": 2,
   "id": "6f53ee12",
   "metadata": {
    "scrolled": true
   },
   "outputs": [],
   "source": [
    "old_file_columns = []\n",
    "old_file_data = []\n",
    "old_pos = []\n",
    "with gzip.open(r'testing_grOLD_ref1_golden.vcf.gz', \"rt\") as ifile:\n",
    "    for line in ifile:\n",
    "        if line.startswith(\"#CHROM\"):\n",
    "            old_file_columns.append(line.split('\\t'))\n",
    "            print(old_file_columns)\n",
    "        if not line.startswith('##'):\n",
    "            old_file_data.append(line.strip().split('\\t'))\n",
    "            old_pos.append((line.strip().split('\\t')[1]))\n",
    "    \n",
    "ifile.close()"
   ]
  },
  {
   "cell_type": "code",
   "execution_count": 5,
   "id": "482f89c7",
   "metadata": {},
   "outputs": [
    {
     "data": {
      "text/plain": [
       "[['#CHROM', 'POS', 'ID', 'REF', 'ALT', 'QUAL', 'FILTER', 'INFO'],\n",
       " ['chr1', '10855', '.', 'C', 'G', '.', 'PASS', 'WP=1/0'],\n",
       " ['chr1', '11623', '.', 'C', 'T', '.', 'PASS', 'WP=0/1'],\n",
       " ['chr1', '12486', '.', 'C', 'T', '.', 'PASS', 'WP=1/0'],\n",
       " ['chr1', '12590', '.', 'C', 'T', '.', 'PASS', 'WP=1/0']]"
      ]
     },
     "execution_count": 5,
     "metadata": {},
     "output_type": "execute_result"
    }
   ],
   "source": [
    "old_file_data[:5]"
   ]
  },
  {
   "cell_type": "markdown",
   "id": "53d8f24b",
   "metadata": {},
   "source": [
    "Similarly, in the below I extracted columns, pos and entire data for NEW VCF named: testing_gr_new-r4_golden.vcf.gz </br>\n",
    "This is the new vcf that you sent on slack which HAS DELETIONS"
   ]
  },
  {
   "cell_type": "code",
   "execution_count": 8,
   "id": "631cc4bd",
   "metadata": {},
   "outputs": [],
   "source": [
    "columns = []\n",
    "data = []\n",
    "pos = []\n",
    "\n",
    "with gzip.open(r'testing_gr_new-r4_golden.vcf.gz', \"rt\") as ifile:\n",
    "    for line in ifile:\n",
    "        if line.startswith(\"#CHROM\"):\n",
    "            columns.append(line.strip().split('\\t'))\n",
    "#             print(columns)\n",
    "        if not line.startswith('##') and not line.startswith('#') and len(line.strip().split('\\t')) > 9:\n",
    "            data.append(line.strip().split('\\t'))\n",
    "#             if len(line.strip().split('\\t')) > 9:\n",
    "#                 print(line.strip().split('\\t'))\n",
    "            pos.append(int(line.strip().split('\\t')[1]))\n",
    "    \n",
    "ifile.close()"
   ]
  },
  {
   "cell_type": "code",
   "execution_count": 9,
   "id": "2526a31e",
   "metadata": {},
   "outputs": [
    {
     "data": {
      "text/plain": [
       "[['chr1', '10612', '.', 'A', 'C', '36', 'PASS', '.', 'GT', '0/1'],\n",
       " ['chr1', '11185', '.', 'G', 'T', '36', 'PASS', '.', 'GT', '1/0'],\n",
       " ['chr1', '12949', '.', 'G', 'C', '36', 'PASS', '.', 'GT', '1/0'],\n",
       " ['chr1', '13087', '.', 'A', 'T', '36', 'PASS', '.', 'GT', '0/1'],\n",
       " ['chr1', '15663', '.', 'G', 'A', '36', 'PASS', '.', 'GT', '1/0']]"
      ]
     },
     "execution_count": 9,
     "metadata": {},
     "output_type": "execute_result"
    }
   ],
   "source": [
    "data[:5]"
   ]
  },
  {
   "cell_type": "code",
   "execution_count": 10,
   "id": "3832c7d8",
   "metadata": {},
   "outputs": [
    {
     "data": {
      "text/plain": [
       "[['#CHROM',\n",
       "  'POS',\n",
       "  'ID',\n",
       "  'REF',\n",
       "  'ALT',\n",
       "  'QUAL',\n",
       "  'FILTER',\n",
       "  'INFO',\n",
       "  'FORMAT',\n",
       "  'NEAT_simulated_sample']]"
      ]
     },
     "execution_count": 10,
     "metadata": {},
     "output_type": "execute_result"
    }
   ],
   "source": [
    "columns"
   ]
  },
  {
   "cell_type": "code",
   "execution_count": 11,
   "id": "2839c9ff",
   "metadata": {},
   "outputs": [
    {
     "data": {
      "text/html": [
       "<div>\n",
       "<style scoped>\n",
       "    .dataframe tbody tr th:only-of-type {\n",
       "        vertical-align: middle;\n",
       "    }\n",
       "\n",
       "    .dataframe tbody tr th {\n",
       "        vertical-align: top;\n",
       "    }\n",
       "\n",
       "    .dataframe thead th {\n",
       "        text-align: right;\n",
       "    }\n",
       "</style>\n",
       "<table border=\"1\" class=\"dataframe\">\n",
       "  <thead>\n",
       "    <tr style=\"text-align: right;\">\n",
       "      <th></th>\n",
       "      <th>#CHROM</th>\n",
       "      <th>POS</th>\n",
       "      <th>ID</th>\n",
       "      <th>REF</th>\n",
       "      <th>ALT</th>\n",
       "      <th>QUAL</th>\n",
       "      <th>FILTER</th>\n",
       "      <th>INFO</th>\n",
       "    </tr>\n",
       "  </thead>\n",
       "  <tbody>\n",
       "    <tr>\n",
       "      <th>1</th>\n",
       "      <td>chr1</td>\n",
       "      <td>10855</td>\n",
       "      <td>.</td>\n",
       "      <td>C</td>\n",
       "      <td>G</td>\n",
       "      <td>.</td>\n",
       "      <td>PASS</td>\n",
       "      <td>WP=1/0</td>\n",
       "    </tr>\n",
       "    <tr>\n",
       "      <th>2</th>\n",
       "      <td>chr1</td>\n",
       "      <td>11623</td>\n",
       "      <td>.</td>\n",
       "      <td>C</td>\n",
       "      <td>T</td>\n",
       "      <td>.</td>\n",
       "      <td>PASS</td>\n",
       "      <td>WP=0/1</td>\n",
       "    </tr>\n",
       "    <tr>\n",
       "      <th>3</th>\n",
       "      <td>chr1</td>\n",
       "      <td>12486</td>\n",
       "      <td>.</td>\n",
       "      <td>C</td>\n",
       "      <td>T</td>\n",
       "      <td>.</td>\n",
       "      <td>PASS</td>\n",
       "      <td>WP=1/0</td>\n",
       "    </tr>\n",
       "    <tr>\n",
       "      <th>4</th>\n",
       "      <td>chr1</td>\n",
       "      <td>12590</td>\n",
       "      <td>.</td>\n",
       "      <td>C</td>\n",
       "      <td>T</td>\n",
       "      <td>.</td>\n",
       "      <td>PASS</td>\n",
       "      <td>WP=1/0</td>\n",
       "    </tr>\n",
       "    <tr>\n",
       "      <th>5</th>\n",
       "      <td>chr1</td>\n",
       "      <td>12884</td>\n",
       "      <td>.</td>\n",
       "      <td>T</td>\n",
       "      <td>G</td>\n",
       "      <td>.</td>\n",
       "      <td>PASS</td>\n",
       "      <td>WP=0/1</td>\n",
       "    </tr>\n",
       "    <tr>\n",
       "      <th>...</th>\n",
       "      <td>...</td>\n",
       "      <td>...</td>\n",
       "      <td>...</td>\n",
       "      <td>...</td>\n",
       "      <td>...</td>\n",
       "      <td>...</td>\n",
       "      <td>...</td>\n",
       "      <td>...</td>\n",
       "    </tr>\n",
       "    <tr>\n",
       "      <th>228556</th>\n",
       "      <td>chr1</td>\n",
       "      <td>249239093</td>\n",
       "      <td>.</td>\n",
       "      <td>G</td>\n",
       "      <td>GTCATG</td>\n",
       "      <td>.</td>\n",
       "      <td>PASS</td>\n",
       "      <td>WP=1/0</td>\n",
       "    </tr>\n",
       "    <tr>\n",
       "      <th>228557</th>\n",
       "      <td>chr1</td>\n",
       "      <td>249239526</td>\n",
       "      <td>.</td>\n",
       "      <td>C</td>\n",
       "      <td>T</td>\n",
       "      <td>.</td>\n",
       "      <td>PASS</td>\n",
       "      <td>WP=0/1</td>\n",
       "    </tr>\n",
       "    <tr>\n",
       "      <th>228558</th>\n",
       "      <td>chr1</td>\n",
       "      <td>249239694</td>\n",
       "      <td>.</td>\n",
       "      <td>A</td>\n",
       "      <td>G</td>\n",
       "      <td>.</td>\n",
       "      <td>PASS</td>\n",
       "      <td>WP=1/0</td>\n",
       "    </tr>\n",
       "    <tr>\n",
       "      <th>228559</th>\n",
       "      <td>chr1</td>\n",
       "      <td>249240397</td>\n",
       "      <td>.</td>\n",
       "      <td>G</td>\n",
       "      <td>A</td>\n",
       "      <td>.</td>\n",
       "      <td>PASS</td>\n",
       "      <td>WP=0/1</td>\n",
       "    </tr>\n",
       "    <tr>\n",
       "      <th>228560</th>\n",
       "      <td>chr1</td>\n",
       "      <td>249240568</td>\n",
       "      <td>.</td>\n",
       "      <td>T</td>\n",
       "      <td>C</td>\n",
       "      <td>.</td>\n",
       "      <td>PASS</td>\n",
       "      <td>WP=0/1</td>\n",
       "    </tr>\n",
       "  </tbody>\n",
       "</table>\n",
       "<p>228560 rows × 8 columns</p>\n",
       "</div>"
      ],
      "text/plain": [
       "0      #CHROM        POS ID REF     ALT QUAL FILTER    INFO\n",
       "1        chr1      10855  .   C       G    .   PASS  WP=1/0\n",
       "2        chr1      11623  .   C       T    .   PASS  WP=0/1\n",
       "3        chr1      12486  .   C       T    .   PASS  WP=1/0\n",
       "4        chr1      12590  .   C       T    .   PASS  WP=1/0\n",
       "5        chr1      12884  .   T       G    .   PASS  WP=0/1\n",
       "...       ...        ... ..  ..     ...  ...    ...     ...\n",
       "228556   chr1  249239093  .   G  GTCATG    .   PASS  WP=1/0\n",
       "228557   chr1  249239526  .   C       T    .   PASS  WP=0/1\n",
       "228558   chr1  249239694  .   A       G    .   PASS  WP=1/0\n",
       "228559   chr1  249240397  .   G       A    .   PASS  WP=0/1\n",
       "228560   chr1  249240568  .   T       C    .   PASS  WP=0/1\n",
       "\n",
       "[228560 rows x 8 columns]"
      ]
     },
     "execution_count": 11,
     "metadata": {},
     "output_type": "execute_result"
    }
   ],
   "source": [
    "old_df = pd.DataFrame (old_file_data)\n",
    "old_df.columns = old_df.iloc[0]\n",
    "old_df = old_df[1:]\n",
    "old_df"
   ]
  },
  {
   "cell_type": "code",
   "execution_count": 12,
   "id": "38c2ecb1",
   "metadata": {
    "scrolled": false
   },
   "outputs": [
    {
     "data": {
      "text/html": [
       "<div>\n",
       "<style scoped>\n",
       "    .dataframe tbody tr th:only-of-type {\n",
       "        vertical-align: middle;\n",
       "    }\n",
       "\n",
       "    .dataframe tbody tr th {\n",
       "        vertical-align: top;\n",
       "    }\n",
       "\n",
       "    .dataframe thead tr th {\n",
       "        text-align: left;\n",
       "    }\n",
       "</style>\n",
       "<table border=\"1\" class=\"dataframe\">\n",
       "  <thead>\n",
       "    <tr>\n",
       "      <th></th>\n",
       "      <th>#CHROM</th>\n",
       "      <th>POS</th>\n",
       "      <th>ID</th>\n",
       "      <th>REF</th>\n",
       "      <th>ALT</th>\n",
       "      <th>QUAL</th>\n",
       "      <th>FILTER</th>\n",
       "      <th>INFO</th>\n",
       "      <th>FORMAT</th>\n",
       "      <th>NEAT_simulated_sample</th>\n",
       "    </tr>\n",
       "  </thead>\n",
       "  <tbody>\n",
       "    <tr>\n",
       "      <th>0</th>\n",
       "      <td>chr1</td>\n",
       "      <td>10612</td>\n",
       "      <td>.</td>\n",
       "      <td>A</td>\n",
       "      <td>C</td>\n",
       "      <td>36</td>\n",
       "      <td>PASS</td>\n",
       "      <td>.</td>\n",
       "      <td>GT</td>\n",
       "      <td>0/1</td>\n",
       "    </tr>\n",
       "    <tr>\n",
       "      <th>1</th>\n",
       "      <td>chr1</td>\n",
       "      <td>11185</td>\n",
       "      <td>.</td>\n",
       "      <td>G</td>\n",
       "      <td>T</td>\n",
       "      <td>36</td>\n",
       "      <td>PASS</td>\n",
       "      <td>.</td>\n",
       "      <td>GT</td>\n",
       "      <td>1/0</td>\n",
       "    </tr>\n",
       "    <tr>\n",
       "      <th>2</th>\n",
       "      <td>chr1</td>\n",
       "      <td>12949</td>\n",
       "      <td>.</td>\n",
       "      <td>G</td>\n",
       "      <td>C</td>\n",
       "      <td>36</td>\n",
       "      <td>PASS</td>\n",
       "      <td>.</td>\n",
       "      <td>GT</td>\n",
       "      <td>1/0</td>\n",
       "    </tr>\n",
       "    <tr>\n",
       "      <th>3</th>\n",
       "      <td>chr1</td>\n",
       "      <td>13087</td>\n",
       "      <td>.</td>\n",
       "      <td>A</td>\n",
       "      <td>T</td>\n",
       "      <td>36</td>\n",
       "      <td>PASS</td>\n",
       "      <td>.</td>\n",
       "      <td>GT</td>\n",
       "      <td>0/1</td>\n",
       "    </tr>\n",
       "    <tr>\n",
       "      <th>4</th>\n",
       "      <td>chr1</td>\n",
       "      <td>15663</td>\n",
       "      <td>.</td>\n",
       "      <td>G</td>\n",
       "      <td>A</td>\n",
       "      <td>36</td>\n",
       "      <td>PASS</td>\n",
       "      <td>.</td>\n",
       "      <td>GT</td>\n",
       "      <td>1/0</td>\n",
       "    </tr>\n",
       "    <tr>\n",
       "      <th>...</th>\n",
       "      <td>...</td>\n",
       "      <td>...</td>\n",
       "      <td>...</td>\n",
       "      <td>...</td>\n",
       "      <td>...</td>\n",
       "      <td>...</td>\n",
       "      <td>...</td>\n",
       "      <td>...</td>\n",
       "      <td>...</td>\n",
       "      <td>...</td>\n",
       "    </tr>\n",
       "    <tr>\n",
       "      <th>249038</th>\n",
       "      <td>chr1</td>\n",
       "      <td>249236886</td>\n",
       "      <td>.</td>\n",
       "      <td>A</td>\n",
       "      <td>G</td>\n",
       "      <td>36</td>\n",
       "      <td>PASS</td>\n",
       "      <td>.</td>\n",
       "      <td>GT</td>\n",
       "      <td>0/1</td>\n",
       "    </tr>\n",
       "    <tr>\n",
       "      <th>249039</th>\n",
       "      <td>chr1</td>\n",
       "      <td>249237025</td>\n",
       "      <td>.</td>\n",
       "      <td>T</td>\n",
       "      <td>G</td>\n",
       "      <td>36</td>\n",
       "      <td>PASS</td>\n",
       "      <td>.</td>\n",
       "      <td>GT</td>\n",
       "      <td>0/1</td>\n",
       "    </tr>\n",
       "    <tr>\n",
       "      <th>249040</th>\n",
       "      <td>chr1</td>\n",
       "      <td>249239098</td>\n",
       "      <td>.</td>\n",
       "      <td>C</td>\n",
       "      <td>A</td>\n",
       "      <td>36</td>\n",
       "      <td>PASS</td>\n",
       "      <td>.</td>\n",
       "      <td>GT</td>\n",
       "      <td>0/1</td>\n",
       "    </tr>\n",
       "    <tr>\n",
       "      <th>249041</th>\n",
       "      <td>chr1</td>\n",
       "      <td>249239201</td>\n",
       "      <td>.</td>\n",
       "      <td>C</td>\n",
       "      <td>G</td>\n",
       "      <td>36</td>\n",
       "      <td>PASS</td>\n",
       "      <td>.</td>\n",
       "      <td>GT</td>\n",
       "      <td>0/1</td>\n",
       "    </tr>\n",
       "    <tr>\n",
       "      <th>249042</th>\n",
       "      <td>chr1</td>\n",
       "      <td>249239916</td>\n",
       "      <td>.</td>\n",
       "      <td>A</td>\n",
       "      <td>G</td>\n",
       "      <td>36</td>\n",
       "      <td>PASS</td>\n",
       "      <td>.</td>\n",
       "      <td>GT</td>\n",
       "      <td>0/1</td>\n",
       "    </tr>\n",
       "  </tbody>\n",
       "</table>\n",
       "<p>249043 rows × 10 columns</p>\n",
       "</div>"
      ],
      "text/plain": [
       "       #CHROM        POS ID REF ALT QUAL FILTER INFO FORMAT  \\\n",
       "0        chr1      10612  .   A   C   36   PASS    .     GT   \n",
       "1        chr1      11185  .   G   T   36   PASS    .     GT   \n",
       "2        chr1      12949  .   G   C   36   PASS    .     GT   \n",
       "3        chr1      13087  .   A   T   36   PASS    .     GT   \n",
       "4        chr1      15663  .   G   A   36   PASS    .     GT   \n",
       "...       ...        ... ..  ..  ..  ...    ...  ...    ...   \n",
       "249038   chr1  249236886  .   A   G   36   PASS    .     GT   \n",
       "249039   chr1  249237025  .   T   G   36   PASS    .     GT   \n",
       "249040   chr1  249239098  .   C   A   36   PASS    .     GT   \n",
       "249041   chr1  249239201  .   C   G   36   PASS    .     GT   \n",
       "249042   chr1  249239916  .   A   G   36   PASS    .     GT   \n",
       "\n",
       "       NEAT_simulated_sample  \n",
       "0                        0/1  \n",
       "1                        1/0  \n",
       "2                        1/0  \n",
       "3                        0/1  \n",
       "4                        1/0  \n",
       "...                      ...  \n",
       "249038                   0/1  \n",
       "249039                   0/1  \n",
       "249040                   0/1  \n",
       "249041                   0/1  \n",
       "249042                   0/1  \n",
       "\n",
       "[249043 rows x 10 columns]"
      ]
     },
     "execution_count": 12,
     "metadata": {},
     "output_type": "execute_result"
    }
   ],
   "source": [
    "new_df = pd.DataFrame(data, columns = columns)\n",
    "new_df"
   ]
  },
  {
   "cell_type": "markdown",
   "id": "ed6248f3",
   "metadata": {},
   "source": [
    "# Insertion and Deletion"
   ]
  },
  {
   "cell_type": "markdown",
   "id": "05b115d7",
   "metadata": {},
   "source": [
    "1. old file"
   ]
  },
  {
   "cell_type": "code",
   "execution_count": 15,
   "id": "0750e2fc",
   "metadata": {},
   "outputs": [
    {
     "name": "stdout",
     "output_type": "stream",
     "text": [
      "Snp for old file:0.9508356667833392\n"
     ]
    }
   ],
   "source": [
    "snp = 0\n",
    "insertion = 0\n",
    "deletion = 0\n",
    "for i in range(len(old_df)):\n",
    "        if len(old_df.iloc[i][3]) == 1 and len(old_df.iloc[i][4]) == 1:\n",
    "            snp += 1\n",
    "        elif len(old_df.iloc[i][4]) > len(old_df.iloc[i][3]):\n",
    "            insertion += 1\n",
    "        elif len(old_df.iloc[i][4]) < len(old_df.iloc[i][3]):\n",
    "            deletion += 1\n",
    "#             print(old_df.iloc[i][3], old_df.iloc[i][4])\n",
    "\n",
    "snp_old = snp/len(old_df)\n",
    "print(\"Snp for old file:\" +str(snp_old))"
   ]
  },
  {
   "cell_type": "code",
   "execution_count": 16,
   "id": "fc8a566f",
   "metadata": {},
   "outputs": [
    {
     "data": {
      "text/plain": [
       "(217323, 6810, 4427)"
      ]
     },
     "execution_count": 16,
     "metadata": {},
     "output_type": "execute_result"
    }
   ],
   "source": [
    "snp, insertion, deletion"
   ]
  },
  {
   "cell_type": "markdown",
   "id": "186adef7",
   "metadata": {},
   "source": [
    "2. new file"
   ]
  },
  {
   "cell_type": "code",
   "execution_count": 17,
   "id": "c971c09a",
   "metadata": {},
   "outputs": [
    {
     "name": "stdout",
     "output_type": "stream",
     "text": [
      "Snp for new file:0.9497636954260911\n",
      "Indel for new file:0.05023630457390892\n"
     ]
    }
   ],
   "source": [
    "snp_new = 0\n",
    "indel_new = 0\n",
    "ins = 0\n",
    "d = 0\n",
    "\n",
    "for i in range(len(new_df)):\n",
    "    if len(new_df.iloc[i][3]) == 1 and len(new_df.iloc[i][4]) == 1:\n",
    "        snp_new += 1\n",
    "    elif len(new_df.iloc[i][4]) > len(new_df.iloc[i][3]):\n",
    "        ins += 1\n",
    "    elif len(new_df.iloc[i][4]) < len(new_df.iloc[i][3]):\n",
    "        d += 1\n",
    "    if len(new_df.iloc[i][4]) > 1 or len(new_df.iloc[i][3]) > 1:\n",
    "        indel_new += 1\n",
    "\n",
    "snp_new_value = snp_new/len(new_df)\n",
    "indel_new_value = indel_new/len(new_df)\n",
    "\n",
    "print(\"Snp for new file:\" +str(snp_new_value))\n",
    "print(\"Indel for new file:\" +str(indel_new_value))"
   ]
  },
  {
   "cell_type": "code",
   "execution_count": 11,
   "id": "80382d06",
   "metadata": {},
   "outputs": [
    {
     "data": {
      "text/plain": [
       "(236532, 7372, 5139)"
      ]
     },
     "execution_count": 11,
     "metadata": {},
     "output_type": "execute_result"
    }
   ],
   "source": [
    "snp_new, ins, d"
   ]
  },
  {
   "cell_type": "code",
   "execution_count": 18,
   "id": "335cb8da",
   "metadata": {
    "scrolled": true
   },
   "outputs": [
    {
     "data": {
      "text/html": [
       "<div>\n",
       "<style scoped>\n",
       "    .dataframe tbody tr th:only-of-type {\n",
       "        vertical-align: middle;\n",
       "    }\n",
       "\n",
       "    .dataframe tbody tr th {\n",
       "        vertical-align: top;\n",
       "    }\n",
       "\n",
       "    .dataframe thead th {\n",
       "        text-align: right;\n",
       "    }\n",
       "</style>\n",
       "<table border=\"1\" class=\"dataframe\">\n",
       "  <thead>\n",
       "    <tr style=\"text-align: right;\">\n",
       "      <th></th>\n",
       "      <th>Category</th>\n",
       "      <th>old</th>\n",
       "      <th>new</th>\n",
       "    </tr>\n",
       "  </thead>\n",
       "  <tbody>\n",
       "    <tr>\n",
       "      <th>0</th>\n",
       "      <td>snp</td>\n",
       "      <td>217323</td>\n",
       "      <td>236532</td>\n",
       "    </tr>\n",
       "    <tr>\n",
       "      <th>1</th>\n",
       "      <td>insertions</td>\n",
       "      <td>6810</td>\n",
       "      <td>7372</td>\n",
       "    </tr>\n",
       "    <tr>\n",
       "      <th>2</th>\n",
       "      <td>deletions</td>\n",
       "      <td>4427</td>\n",
       "      <td>5139</td>\n",
       "    </tr>\n",
       "    <tr>\n",
       "      <th>3</th>\n",
       "      <td>total</td>\n",
       "      <td>228560</td>\n",
       "      <td>249043</td>\n",
       "    </tr>\n",
       "  </tbody>\n",
       "</table>\n",
       "</div>"
      ],
      "text/plain": [
       "     Category     old     new\n",
       "0         snp  217323  236532\n",
       "1  insertions    6810    7372\n",
       "2   deletions    4427    5139\n",
       "3       total  228560  249043"
      ]
     },
     "execution_count": 18,
     "metadata": {},
     "output_type": "execute_result"
    }
   ],
   "source": [
    "data = {'Category':  ['snp', 'insertions', 'deletions', 'total'],\n",
    "        'old': [217323, 6810, 4427, 217323+6810+4427] , 'new' : [236532, 7372, 5139, 236532+7372+5139],\n",
    "        }\n",
    "table = pd.DataFrame(data)\n",
    "table"
   ]
  },
  {
   "cell_type": "markdown",
   "id": "a66eb58c",
   "metadata": {},
   "source": [
    "# Mutation Rate for both VCF files"
   ]
  },
  {
   "cell_type": "code",
   "execution_count": 68,
   "id": "1b30bce1",
   "metadata": {},
   "outputs": [
    {
     "name": "stdout",
     "output_type": "stream",
     "text": [
      "Mutation rate for Old VCF: 0.0010467255766649088\n",
      "Mutation rate for New VCF: 0.0011467855079079121\n"
     ]
    }
   ],
   "source": [
    "def mutation_rate(dataframe):\n",
    "    rate = 0\n",
    "    for i in range(len(dataframe)):\n",
    "        variant_length = max(len(dataframe.iloc[i][3]), len(dataframe.iloc[i][4]))\n",
    "        rate += variant_length/249250621\n",
    "    return rate\n",
    "\n",
    "print(\"Mutation rate for Old VCF: \"+str(mutation_rate(old_df)))\n",
    "print(\"Mutation rate for New VCF: \"+str(mutation_rate(new_df)))"
   ]
  },
  {
   "cell_type": "markdown",
   "id": "d7da391d",
   "metadata": {},
   "source": [
    "# plots #"
   ]
  },
  {
   "cell_type": "code",
   "execution_count": 25,
   "id": "eae63783",
   "metadata": {},
   "outputs": [
    {
     "data": {
      "text/plain": [
       "[11623, 12486, 12590, 12884, 15043, 15109, 16288, 16359, 17334, 17786]"
      ]
     },
     "execution_count": 25,
     "metadata": {},
     "output_type": "execute_result"
    }
   ],
   "source": [
    "old_pos = [int(i) for i in old_pos[1:]]\n",
    "old_pos[:10]"
   ]
  },
  {
   "cell_type": "code",
   "execution_count": 26,
   "id": "6dcd2e02",
   "metadata": {},
   "outputs": [
    {
     "data": {
      "text/plain": [
       "array([    11623,     12486,     12590, ..., 249239694, 249240397,\n",
       "       249240568])"
      ]
     },
     "execution_count": 26,
     "metadata": {},
     "output_type": "execute_result"
    }
   ],
   "source": [
    "old_np_array = np.array(old_pos)\n",
    "old_np_array"
   ]
  },
  {
   "cell_type": "code",
   "execution_count": 29,
   "id": "d7cf59bf",
   "metadata": {},
   "outputs": [
    {
     "data": {
      "text/plain": [
       "(array([    11623,     12486,     12590, ..., 249239694, 249240397,\n",
       "        249240568]),\n",
       " array([    10612,     11185,     12949, ..., 249239098, 249239201,\n",
       "        249239916]))"
      ]
     },
     "execution_count": 29,
     "metadata": {},
     "output_type": "execute_result"
    }
   ],
   "source": [
    "new_np_array = np.array(pos)\n",
    "old_np_array, new_np_array"
   ]
  },
  {
   "cell_type": "code",
   "execution_count": 37,
   "id": "63c8c18a",
   "metadata": {
    "scrolled": true
   },
   "outputs": [
    {
     "data": {
      "text/plain": [
       "[<matplotlib.lines.Line2D at 0x16fd3c7a6d0>]"
      ]
     },
     "execution_count": 37,
     "metadata": {},
     "output_type": "execute_result"
    },
    {
     "data": {
      "image/png": "[encoded data removed]",
      "text/plain": [
       "<Figure size 1080x576 with 1 Axes>"
      ]
     },
     "metadata": {
      "needs_background": "light"
     },
     "output_type": "display_data"
    }
   ],
   "source": [
    "from shapely.geometry import LineString\n",
    "import matplotlib.pyplot as plt\n",
    "\n",
    "plt.rcParams[\"figure.figsize\"] = (15,8)\n",
    "plt.xlabel('Index')\n",
    "plt.ylabel('POS values')\n",
    "plt.plot(old_np_array, '--', label='Old file')\n",
    "plt.plot(new_np_array, label= 'New file')"
   ]
  },
  {
   "cell_type": "code",
   "execution_count": null,
   "id": "bd835cc1",
   "metadata": {},
   "outputs": [],
   "source": [
    "find max(old) # 200000\n",
    "reference[max_old:max_new] # find % N\n",
    "count up number of N in reference / number of bases in that region"
   ]
  },
  {
   "cell_type": "code",
   "execution_count": 39,
   "id": "9b5f5c3d",
   "metadata": {},
   "outputs": [
    {
     "data": {
      "text/plain": [
       "array([    11623,     12486,     12590, ..., 249239694, 249240397,\n",
       "       249240568])"
      ]
     },
     "execution_count": 39,
     "metadata": {},
     "output_type": "execute_result"
    }
   ],
   "source": [
    "old_np_array"
   ]
  },
  {
   "cell_type": "code",
   "execution_count": 45,
   "id": "e2c65dc5",
   "metadata": {},
   "outputs": [
    {
     "name": "stdout",
     "output_type": "stream",
     "text": [
      "228558 228558\n"
     ]
    }
   ],
   "source": [
    "old_difference = []\n",
    "for i in range(1, len(old_np_array)):\n",
    "    old_difference.append(old_np_array[i] - old_np_array[i - 1])    \n",
    "    \n",
    "old_difference = np.array(old_difference)\n",
    "\n",
    "x_old = [i for i in range(1, len(old_np_array))]\n",
    "print(len(old_difference), len(x_old))"
   ]
  },
  {
   "cell_type": "code",
   "execution_count": 46,
   "id": "11caac8b",
   "metadata": {},
   "outputs": [
    {
     "data": {
      "text/plain": [
       "array([    10612,     11185,     12949, ..., 249239098, 249239201,\n",
       "       249239916])"
      ]
     },
     "execution_count": 46,
     "metadata": {},
     "output_type": "execute_result"
    }
   ],
   "source": [
    "new_np_array"
   ]
  },
  {
   "cell_type": "code",
   "execution_count": 49,
   "id": "c6247628",
   "metadata": {
    "scrolled": true
   },
   "outputs": [
    {
     "name": "stdout",
     "output_type": "stream",
     "text": [
      "[ 573 1764  138 ... 2073  103  715]\n",
      "249042 249042\n"
     ]
    }
   ],
   "source": [
    "new_difference = []\n",
    "for i in range(1, len(new_np_array)):\n",
    "    new_difference.append(new_np_array[i] - new_np_array[i - 1])\n",
    "new_difference = np.array(new_difference)\n",
    "x_new = [i for i in range(1, len(new_np_array))]\n",
    "print(new_difference)\n"
   ]
  },
  {
   "cell_type": "code",
   "execution_count": 50,
   "id": "e71a5f0a",
   "metadata": {
    "scrolled": true
   },
   "outputs": [
    {
     "data": {
      "text/plain": [
       "<matplotlib.legend.Legend at 0x16fe428f820>"
      ]
     },
     "execution_count": 50,
     "metadata": {},
     "output_type": "execute_result"
    },
    {
     "data": {
      "image/png": "[encoded data removed]",
      "text/plain": [
       "<Figure size 1080x576 with 1 Axes>"
      ]
     },
     "metadata": {
      "needs_background": "light"
     },
     "output_type": "display_data"
    }
   ],
   "source": [
    "plt.ylabel(\"Difference\")\n",
    "plt.xlabel(\"Index\")\n",
    "plt.plot(x_new, new_difference)\n",
    "plt.plot(x_old, old_difference)\n",
    "plt.legend([\"New\", \"Old\"])"
   ]
  },
  {
   "cell_type": "code",
   "execution_count": 54,
   "id": "240b9dab",
   "metadata": {},
   "outputs": [
    {
     "data": {
      "text/plain": [
       "(249042, 228558)"
      ]
     },
     "execution_count": 54,
     "metadata": {},
     "output_type": "execute_result"
    }
   ],
   "source": [
    "x1 = [i for i in range(0, len(new_difference))]\n",
    "\n",
    "x2 = [i for i in range(0, len(old_difference))]\n",
    "len(x1), len(x2)"
   ]
  },
  {
   "cell_type": "code",
   "execution_count": 55,
   "id": "37e51068",
   "metadata": {},
   "outputs": [],
   "source": [
    "def plot_graph(start, end):\n",
    "    plt.ylabel(\"Difference\")\n",
    "    plt.xlabel(\"Index\")\n",
    "    start = int(start)\n",
    "    end = int(end)\n",
    "    plt.plot(x1[start:end], new_difference[start:end])\n",
    "    plt.plot(x2[start:end], old_difference[start:end])\n",
    "    plt.legend([\"New\", \"Old\"])   "
   ]
  },
  {
   "cell_type": "code",
   "execution_count": 56,
   "id": "df9530c5",
   "metadata": {
    "scrolled": false
   },
   "outputs": [
    {
     "data": {
      "text/plain": [
       "<matplotlib.legend.Legend at 0x16fe42db5b0>"
      ]
     },
     "execution_count": 56,
     "metadata": {},
     "output_type": "execute_result"
    },
    {
     "data": {
      "image/png": "[encoded data removed]",
      "text/plain": [
       "<Figure size 1080x576 with 1 Axes>"
      ]
     },
     "metadata": {
      "needs_background": "light"
     },
     "output_type": "display_data"
    }
   ],
   "source": [
    "plt.plot(x1, new_difference)\n",
    "plt.plot(x2, old_difference)\n",
    "plt.legend([\"New\", \"Old\"])"
   ]
  },
  {
   "cell_type": "markdown",
   "id": "83ef08ca",
   "metadata": {},
   "source": [
    "Give min and max values to plot_graph function"
   ]
  },
  {
   "cell_type": "code",
   "execution_count": 59,
   "id": "5c7e3db8",
   "metadata": {
    "scrolled": true
   },
   "outputs": [
    {
     "data": {
      "image/png": "[encoded data removed]",
      "text/plain": [
       "<Figure size 1080x576 with 1 Axes>"
      ]
     },
     "metadata": {
      "needs_background": "light"
     },
     "output_type": "display_data"
    }
   ],
   "source": [
    "plot_graph(0, 100)"
   ]
  },
  {
   "cell_type": "code",
   "execution_count": null,
   "id": "dae154dd",
   "metadata": {},
   "outputs": [],
   "source": []
  },
  {
   "cell_type": "code",
   "execution_count": 62,
   "id": "c08bfa9b",
   "metadata": {},
   "outputs": [
    {
     "data": {
      "text/plain": [
       "(249041, 228557)"
      ]
     },
     "execution_count": 62,
     "metadata": {},
     "output_type": "execute_result"
    }
   ],
   "source": [
    "new_difference_without_max_value = np.delete(new_difference, np.where(new_difference == max(new_difference)))\n",
    "old_difference_without_max_value = np.delete(old_difference, np.where(old_difference == max(old_difference)))\n",
    "\n",
    "len(new_difference_without_max_value), len(old_difference_without_max_value)"
   ]
  },
  {
   "cell_type": "code",
   "execution_count": 66,
   "id": "799e7dd5",
   "metadata": {},
   "outputs": [
    {
     "data": {
      "text/plain": [
       "<matplotlib.legend.Legend at 0x16fec777160>"
      ]
     },
     "execution_count": 66,
     "metadata": {},
     "output_type": "execute_result"
    },
    {
     "data": {
      "image/png": "[encoded data removed]",
      "text/plain": [
       "<Figure size 1080x576 with 1 Axes>"
      ]
     },
     "metadata": {
      "needs_background": "light"
     },
     "output_type": "display_data"
    }
   ],
   "source": [
    "plt.plot([i for i in range(0, len(new_difference_without_max_value))], new_difference_without_max_value)\n",
    "plt.plot([i for i in range(0, len(old_difference_without_max_value))], old_difference_without_max_value)\n",
    "plt.legend([\"New\", \"Old\"])"
   ]
  },
  {
   "cell_type": "markdown",
   "id": "1cb953df",
   "metadata": {},
   "source": [
    "# statistics #"
   ]
  },
  {
   "cell_type": "code",
   "execution_count": 31,
   "id": "b1a63177",
   "metadata": {},
   "outputs": [],
   "source": [
    "def statistics(np_array):\n",
    "    print(\"Mean: \"+str(np.mean(np_array)))\n",
    "    print(\"Std Deviation: \"+str(np.std(np_array)))\n",
    "    print(\"Lowest value: \"+str(np.min(np_array)))\n",
    "    print(\"Highest value: \"+str(np.max(np_array)))"
   ]
  },
  {
   "cell_type": "code",
   "execution_count": 34,
   "id": "f04876a5",
   "metadata": {},
   "outputs": [
    {
     "name": "stdout",
     "output_type": "stream",
     "text": [
      "Stats for old VCF: \n",
      "Mean: 123951553.90159653\n",
      "Std Deviation: 75091352.91097116\n",
      "Lowest value: 11623\n",
      "Highest value: 249240568\n",
      "\n",
      "Stats for old VCF: \n",
      "Mean: 129902151.88788684\n",
      "Std Deviation: 75231637.73205373\n",
      "Lowest value: 10612\n",
      "Highest value: 249239916\n"
     ]
    }
   ],
   "source": [
    "print(\"Stats for old VCF: \")\n",
    "statistics(old_np_array)\n",
    "print(\"\\nStats for old VCF: \")\n",
    "statistics(new_np_array)"
   ]
  },
  {
   "cell_type": "code",
   "execution_count": null,
   "id": "3025a328",
   "metadata": {},
   "outputs": [],
   "source": []
  }
 ],
 "metadata": {
  "kernelspec": {
   "display_name": "Python 3",
   "language": "python",
   "name": "python3"
  },
  "language_info": {
   "codemirror_mode": {
    "name": "ipython",
    "version": 3
   },
   "file_extension": ".py",
   "mimetype": "text/x-python",
   "name": "python",
   "nbconvert_exporter": "python",
   "pygments_lexer": "ipython3",
   "version": "3.8.8"
  }
 },
 "nbformat": 4,
 "nbformat_minor": 5
}
